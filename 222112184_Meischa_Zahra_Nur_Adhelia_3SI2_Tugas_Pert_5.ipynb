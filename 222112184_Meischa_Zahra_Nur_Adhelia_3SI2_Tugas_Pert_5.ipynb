{
  "nbformat": 4,
  "nbformat_minor": 0,
  "metadata": {
    "colab": {
      "provenance": []
    },
    "kernelspec": {
      "name": "python3",
      "display_name": "Python 3"
    },
    "language_info": {
      "name": "python"
    }
  },
  "cells": [
    {
      "cell_type": "markdown",
      "source": [
        "# Nama  : Meischa Zahra Nur Adhelia\n",
        "# Kelas : 3SI2\n",
        "# NIM   : 222112184"
      ],
      "metadata": {
        "id": "IccKUqAJVF4V"
      }
    },
    {
      "cell_type": "markdown",
      "source": [
        "# Transposition Chiper"
      ],
      "metadata": {
        "id": "PThxqHvyUOQC"
      }
    },
    {
      "cell_type": "code",
      "execution_count": 1,
      "metadata": {
        "id": "S5SSTXB2TudZ"
      },
      "outputs": [],
      "source": [
        "import math"
      ]
    },
    {
      "cell_type": "code",
      "source": [
        "def encrypt_trans(key, message):\n",
        "    ciphertext = [''] * key\n",
        "\n",
        "    for col in range(key):\n",
        "        position = col\n",
        "        while position < len(message):\n",
        "            ciphertext[col] += message[position]\n",
        "            position += key\n",
        "\n",
        "    return ''.join(ciphertext)"
      ],
      "metadata": {
        "id": "KaUX9NqBT_PL"
      },
      "execution_count": 5,
      "outputs": []
    },
    {
      "cell_type": "markdown",
      "source": [
        "Fungsi encrypt_trans melakukan enkripsi pesan menggunakan metode transposisi kolom. Berikut adalah penjelasan langkah-langkahnya:\n",
        "\n",
        "Sebuah list kosong yang disebut ciphertext dibuat dengan panjang yang sama dengan nilai key. List ini akan digunakan untuk menyimpan karakter-karakter terenkripsi yang mewakili kolom-kolom pada matriks enkripsi.\n",
        "\n",
        "Iterasi dilakukan sebanyak nilai key. Setiap iterasi ini akan mengisi kolom-kolom matriks enkripsi secara berurutan, dimulai dari kolom pertama hingga kolom terakhir.\n",
        "\n",
        "Pada setiap iterasi, variabel col menunjukkan nomor kolom yang sedang diproses. Variabel position diinisialisasi dengan nilai col, yang menunjukkan posisi awal pada pesan yang akan dienkripsi.\n",
        "\n",
        "Selama nilai position kurang dari panjang pesan yang akan dienkripsi, proses berikut terus dilakukan:\n",
        "\n",
        "a. Karakter pada posisi position pada pesan diambil dan ditambahkan ke dalam list ciphertext pada kolom yang sesuai (col).\n",
        "\n",
        "b. Nilai position ditambahkan dengan nilai key untuk memindahkan posisi ke karakter berikutnya pada kolom yang sama.\n",
        "\n",
        "Proses iterasi dilanjutkan hingga semua karakter pesan terenkripsi.\n",
        "\n",
        "Setelah semua karakter pesan terenkripsi, list ciphertext yang berisi karakter-karakter terenkripsi dari setiap kolom digabungkan menjadi satu string menggunakan fungsi join().\n",
        "\n",
        "String hasil penggabungan inilah yang menjadi hasil dari proses enkripsi dan akan dikembalikan oleh fungsi.\n",
        "\n"
      ],
      "metadata": {
        "id": "VcrqgXzDuF1K"
      }
    },
    {
      "cell_type": "code",
      "source": [
        "def decrypt_trans(key, ciphertext):\n",
        "    num_rows = math.ceil(len(ciphertext) / key)\n",
        "    num_cols = key\n",
        "    num_shaded_boxes = (num_cols * num_rows) - len(ciphertext)\n",
        "\n",
        "    plaintext = [''] * num_cols\n",
        "    col = 0\n",
        "    row = 0\n",
        "\n",
        "    for symbol in ciphertext:\n",
        "        plaintext[col] += symbol\n",
        "        col += 1\n",
        "\n",
        "        if (col == num_rows) or (col == num_rows - 1 and row >= num_cols - num_shaded_boxes):\n",
        "            col = 0\n",
        "            row += 1\n",
        "\n",
        "    return ''.join(plaintext)"
      ],
      "metadata": {
        "id": "DsERZ0vHT__5"
      },
      "execution_count": 15,
      "outputs": []
    },
    {
      "cell_type": "markdown",
      "source": [
        "Algoritma `decrypt_trans` digunakan untuk mendekripsi teks yang telah dienkripsi menggunakan metode transposisi kolom. Berikut adalah penjelasan alur kerjanya:\n",
        "\n",
        "1. Menghitung jumlah kolom dan baris dalam matriks enkripsi:\n",
        "   - `num_cols` dihitung dengan membulatkan ke atas dari hasil pembagian panjang `ciphertext` dengan nilai `key`.\n",
        "   - `num_rows` dihitung sebagai nilai `key`.\n",
        "\n",
        "2. Menghitung jumlah kotak yang tidak terisi dalam matriks:\n",
        "   - `num_shaded_boxes` dihitung sebagai selisih antara jumlah kotak total dalam matriks (dikali dari `num_cols` dan `num_rows`) dengan panjang `ciphertext`. Ini diperlukan untuk mengetahui apakah ada kolom terakhir yang tidak terisi penuh.\n",
        "\n",
        "3. Membuat list kosong `plaintext` dengan panjang `num_cols`. Setiap elemen dalam list ini akan mewakili kolom pada matriks dekripsi.\n",
        "\n",
        "4. Variabel `col` dan `row` diinisialisasi sebagai 0, digunakan untuk melacak posisi saat memasukkan karakter terdekripsi ke dalam `plaintext`.\n",
        "\n",
        "5. Iterasi dilakukan untuk setiap simbol dalam `ciphertext`:\n",
        "   - Setiap simbol dimasukkan ke dalam kolom yang sedang diproses di dalam list `plaintext`.\n",
        "   - Variabel `col` diperbarui untuk beralih ke kolom berikutnya.\n",
        "\n",
        "6. Setelah semua simbol diproses, algoritma memeriksa apakah telah mencapai batas akhir kolom atau kolom terakhir yang tidak terisi penuh:\n",
        "   - Jika `col` mencapai `num_cols` atau `col` mencapai `num_cols - 1` dan `row` mencapai atau melebihi `num_rows - num_shaded_boxes`, maka `col` direset menjadi 0 dan `row` diperbarui untuk beralih ke baris berikutnya.\n",
        "\n",
        "7. Proses ini berlanjut hingga semua simbol dalam `ciphertext` diproses.\n",
        "\n",
        "8. Terakhir, list `plaintext` yang berisi karakter-karakter terdekripsi dari masing-masing kolom digabungkan menjadi satu string menggunakan fungsi `join()`, dan string hasilnya dikembalikan sebagai hasil dekripsi.\n",
        "\n",
        "Dengan demikian, algoritma `decrypt_trans` berhasil mendekripsi teks yang dienkripsi menggunakan metode transposisi kolom dengan mengatur ulang karakter-karakternya sesuai dengan pola matriks enkripsi yang digunakan saat enkripsi."
      ],
      "metadata": {
        "id": "FYikQEYiSFEA"
      }
    },
    {
      "cell_type": "code",
      "source": [
        "# Contoh Penggunaan\n",
        "message = input(\"Masukkan Kalimat Untuk Dienkripsi: \")\n",
        "key = int(input(\"Masukkan Key: \"))\n",
        "encrypted = encrypt_trans(key, message)\n",
        "decrypted = decrypt_trans(key, encrypted)\n",
        "print(\"Kalimat Asli:\",message)\n",
        "print(\"Kalimat Hasil Enkripsi:\", encrypted)\n",
        "print(\"Kalimat Hasil Dekripsi:\", decrypted)"
      ],
      "metadata": {
        "colab": {
          "base_uri": "https://localhost:8080/"
        },
        "id": "LtBPPuh9UACg",
        "outputId": "c32f6365-df17-485e-df8e-0ecb15664e30"
      },
      "execution_count": 16,
      "outputs": [
        {
          "output_type": "stream",
          "name": "stdout",
          "text": [
            "Masukkan Kalimat Untuk Dienkripsi: MEISCHA ZAHRA\n",
            "Masukkan Key: 5\n",
            "Kalimat Asli: MEISCHA ZAHRA\n",
            "Kalimat Hasil Enkripsi: MHHEARI ASZCA\n",
            "Kalimat Hasil Dekripsi: MEISCHA ZAHRA\n"
          ]
        }
      ]
    },
    {
      "cell_type": "markdown",
      "source": [
        "### Kompleksitas Waktu\n",
        "\n",
        "#### Fungsi Enkripsi\n",
        "\n",
        "1. Pembuatan array ciphertext yang berukuran key memiliki kompleksitas waktu O(key). _bukan termasuk bagian dari Transposition Cipher_\n",
        "2. Loop luar yang dijalankan sebanyak key kali. Dalam kasus terburuk, kompleksitas waktu dari loop ini adalah O(key).\n",
        "3. Loop dalam yang berjalan melalui panjang pesan (message) yang memenuhi kondisi tertentu. Dalam kasus terburuk, pada loop luar dan loop dalam setiap karakter dalam pesan akan diakses sekali. Ini memberikan kompleksitas waktu O(n), di mana n adalah panjang dari pesan.\n",
        "4. Penggabungan dari array ciphertext memiliki kompleksitas waktu O(1). _bukan termasuk bagian dari Transposition Cipher_\n",
        "\n",
        "Kompleksitas waktu total dari Algoritma Fungsi Enkripsi Transposition Cipher adalah O(Loop Dalam) + O(Loop Luar) = O(n), dimana nilai n adalah banyaknya karakter dalam string message \"kalimat yang akan dienkripsi\".\n",
        "\n",
        "Jika diukur kompleksitas waktu Fungsi Enkripsi secara keseluruhan maka didapatkan O(n + key + 1)\n",
        "\n",
        "#### Fungsi Dekripsi\n",
        "\n",
        "1. Perhitungan num_cols, num_rows, dan num_shaded_boxes memiliki kompleksitas waktu konstan, O(1), karena hanya melibatkan operasi aritmatika dasar. _bukan termasuk bagian dari Transposition Cipher_\n",
        "2. Pembuatan array plaintext yang berukuran num_cols memiliki kompleksitas waktu O(num_cols) atau (ciphertext / key) _bukan termasuk bagian dari Transposition Cipher_\n",
        "3. Loop melalui setiap karakter dalam string ciphertext. Dalam kasus terburuk, memiliki kompleksitas waktu O(n), di mana n adalah banyaknya karakter dari ciphertext.\n",
        "\n",
        "Kompleksitas waktu total dari decrypt_message adalah O(n), dimana n adalah panjang dari ciphertext.\n",
        "\n",
        "Jika diukur kompleksitas waktu Fungsi Dekripsi secara keseluruhan maka didapatkan O(num_cols + n + 1)"
      ],
      "metadata": {
        "id": "RXgYkqZVS2op"
      }
    },
    {
      "cell_type": "markdown",
      "source": [
        "# Substitution Cipher"
      ],
      "metadata": {
        "id": "0ClFrqKeUepY"
      }
    },
    {
      "cell_type": "code",
      "source": [
        "import random, string"
      ],
      "metadata": {
        "id": "j-d8C8rEUAFM"
      },
      "execution_count": 10,
      "outputs": []
    },
    {
      "cell_type": "code",
      "source": [
        "def generate_cipher_alphabet(original_alphabet):\n",
        "    key = random.randint(1, 26)\n",
        "    shifted_alphabet = ''\n",
        "    for char in original_alphabet:\n",
        "        if char.isalpha():\n",
        "            shifted_char = chr(((ord(char.upper()) - 65 + key) % 26) + 65)\n",
        "            if char.islower():\n",
        "                shifted_char = shifted_char.lower()\n",
        "            shifted_alphabet += shifted_char\n",
        "        else:\n",
        "            shifted_alphabet += char\n",
        "    return shifted_alphabet"
      ],
      "metadata": {
        "id": "4dZHJI5uUAIj"
      },
      "execution_count": 21,
      "outputs": []
    },
    {
      "cell_type": "markdown",
      "source": [
        "Syntax ini digunakan untuk menghasilkan alfabet kunci (cipher alphabet) yang telah di-shift berdasarkan suatu kunci acak. Berikut adalah penjelasan langkah-langkahnya:\n",
        "\n",
        "1. `def generate_cipher_alphabet(original_alphabet):`\n",
        "   - Ini adalah deklarasi fungsi bernama `generate_cipher_alphabet` yang menerima satu parameter, yaitu `original_alphabet`, yang merupakan alfabet asli yang akan di-shift.\n",
        "\n",
        "2. `key = random.randint(1, 26)`\n",
        "   - Ini menghasilkan sebuah kunci acak antara 1 dan 26 (inklusif), yang akan digunakan untuk melakukan pergeseran alfabet.\n",
        "\n",
        "3. `shifted_alphabet = ''`\n",
        "   - Membuat string kosong `shifted_alphabet` yang akan menyimpan alfabet yang telah di-shift.\n",
        "\n",
        "4. `for char in original_alphabet:`\n",
        "   - Iterasi dilakukan untuk setiap karakter dalam alfabet asli.\n",
        "\n",
        "5. `if char.isalpha():`\n",
        "   - Memeriksa apakah karakter saat ini merupakan huruf alfabet atau bukan.\n",
        "\n",
        "6. `shifted_char = chr(((ord(char.upper()) - 65 + key) % 26) + 65)`\n",
        "   - Menggeser karakter alfabet:\n",
        "     - `ord(char.upper()) - 65` mengkonversi karakter ke nilai ASCII dan mengurangi nilai ASCII huruf 'A' (65) untuk mengubahnya menjadi indeks dalam alfabet.\n",
        "     - `+ key` menambahkan kunci acak untuk melakukan pergeseran.\n",
        "     - `% 26` digunakan untuk memastikan hasil pergeseran tetap dalam rentang 0-25.\n",
        "     - `+ 65` kembali menggeser ke nilai ASCII huruf kapital.\n",
        "\n",
        "7. `if char.islower():`\n",
        "   - Memeriksa apakah karakter asli adalah huruf kecil.\n",
        "\n",
        "8. `shifted_char = shifted_char.lower()`\n",
        "   - Jika ya, maka hasil pergeseran diubah menjadi huruf kecil.\n",
        "\n",
        "9. `shifted_alphabet += shifted_char`\n",
        "   - Menambahkan karakter yang telah di-shift ke dalam string `shifted_alphabet`.\n",
        "\n",
        "10. `return shifted_alphabet`\n",
        "   - Mengembalikan alfabet yang telah di-shift.\n",
        "\n",
        "Jadi, fungsi ini menghasilkan alfabet yang telah di-shift dengan menggunakan kunci acak, dan mengembalikan alfabet tersebut sebagai output."
      ],
      "metadata": {
        "id": "knvhM-mtUkzl"
      }
    },
    {
      "cell_type": "code",
      "source": [
        "def encrypt_substitution_cipher(plaintext, original_alphabet, cipher_alphabet):\n",
        "    translation_table = str.maketrans(original_alphabet, cipher_alphabet)\n",
        "    encrypted_message = plaintext.translate(translation_table)\n",
        "    return encrypted_message"
      ],
      "metadata": {
        "id": "JmnMJaubUARI"
      },
      "execution_count": 12,
      "outputs": []
    },
    {
      "cell_type": "markdown",
      "source": [
        "Fungsi `encrypt_substitution_cipher` digunakan untuk melakukan enkripsi teks menggunakan metode sandi substitusi, di mana setiap huruf dalam alfabet asli (`original_alphabet`) digantikan dengan huruf yang sesuai dalam alfabet kunci (`cipher_alphabet`). Berikut adalah penjelasan langkah-langkahnya:\n",
        "\n",
        "1. `translation_table = str.maketrans(original_alphabet, cipher_alphabet)`\n",
        "   - Membuat tabel translasi menggunakan metode `str.maketrans()`. Tabel ini memetakan setiap karakter dari `original_alphabet` ke karakter yang sesuai dalam `cipher_alphabet`.\n",
        "\n",
        "2. `encrypted_message = plaintext.translate(translation_table)`\n",
        "   - Menggunakan tabel translasi yang telah dibuat sebelumnya untuk menerjemahkan (mengenkripsi) teks `plaintext`.\n",
        "   - Fungsi `translate()` digunakan untuk mengganti setiap karakter dalam `plaintext` berdasarkan tabel translasi yang diberikan.\n",
        "\n",
        "3. `return encrypted_message`\n",
        "   - Mengembalikan teks terenkripsi (`encrypted_message`) sebagai output dari fungsi.\n",
        "\n",
        "Dengan demikian, fungsi ini menghasilkan teks terenkripsi dengan menggantikan setiap huruf dalam teks asli (`plaintext`) dengan huruf yang sesuai dalam alfabet kunci (`cipher_alphabet`) sesuai dengan tabel translasi yang telah dibuat."
      ],
      "metadata": {
        "id": "qMlQxENfUu2z"
      }
    },
    {
      "cell_type": "code",
      "source": [
        "\n",
        "def decrypt_substitution_cipher(ciphertext, original_alphabet, cipher_alphabet):\n",
        "    translation_table = str.maketrans(cipher_alphabet, original_alphabet)\n",
        "    decrypted_message = ciphertext.translate(translation_table)\n",
        "    return decrypted_message"
      ],
      "metadata": {
        "id": "pIOgLuYhUAUE"
      },
      "execution_count": 13,
      "outputs": []
    },
    {
      "cell_type": "markdown",
      "source": [
        "Algoritma `decrypt_substitution_cipher` digunakan untuk mendekripsi teks yang telah dienkripsi menggunakan metode sandi substitusi. Berikut adalah penjelasan langkah-langkahnya:\n",
        "\n",
        "1. `translation_table = str.maketrans(cipher_alphabet, original_alphabet)`\n",
        "   - Membuat tabel translasi menggunakan metode `str.maketrans()`. Tabel ini memetakan setiap karakter dari alfabet kunci (`cipher_alphabet`) ke karakter yang sesuai dalam alfabet asli (`original_alphabet`). Ini adalah kebalikan dari tabel translasi yang digunakan saat enkripsi.\n",
        "\n",
        "2. `decrypted_message = ciphertext.translate(translation_table)`\n",
        "   - Menggunakan tabel translasi yang telah dibuat sebelumnya untuk menerjemahkan (mendekripsi) teks terenkripsi (`ciphertext`).\n",
        "   - Fungsi `translate()` digunakan untuk mengganti setiap karakter dalam `ciphertext` berdasarkan tabel translasi yang diberikan, yang mengubah karakter-karakter terenkripsi kembali menjadi karakter aslinya.\n",
        "\n",
        "3. `return decrypted_message`\n",
        "   - Mengembalikan teks yang telah di-dekripsi sebagai output dari fungsi.\n",
        "\n",
        "Dengan demikian, algoritma ini menghasilkan teks yang telah di-dekripsi dengan menggantikan setiap huruf dalam teks terenkripsi (`ciphertext`) dengan huruf yang sesuai dalam alfabet asli (`original_alphabet`) sesuai dengan tabel translasi yang telah dibuat."
      ],
      "metadata": {
        "id": "0tcTkilzUxEk"
      }
    },
    {
      "cell_type": "code",
      "source": [
        "# Contoh penggunaan\n",
        "original_alphabet = 'ABCDEFGHIJKLMNOPQRSTUVWXYZ'\n",
        "cipher_alphabet = generate_cipher_alphabet(original_alphabet)\n",
        "\n",
        "message = input(\"Masukkan Kalimat Untuk Dienkripsi: \")\n",
        "encrypted = encrypt_substitution_cipher(message, original_alphabet, cipher_alphabet)\n",
        "decrypted = decrypt_substitution_cipher(encrypted, original_alphabet, cipher_alphabet)\n",
        "\n",
        "print(\"Original Message:\", message)\n",
        "print(\"Encrypted Message:\", encrypted)\n",
        "print(\"Decrypted Message:\", decrypted)"
      ],
      "metadata": {
        "colab": {
          "base_uri": "https://localhost:8080/"
        },
        "id": "3A7oIvKjUAXk",
        "outputId": "fb56951c-933c-4efa-e08f-61babb179e2c"
      },
      "execution_count": 22,
      "outputs": [
        {
          "output_type": "stream",
          "name": "stdout",
          "text": [
            "Masukkan Kalimat Untuk Dienkripsi: MEISCHA ZAHRA NUR ADHELIA\n",
            "Original Message: MEISCHA ZAHRA NUR ADHELIA\n",
            "Encrypted Message: RJNXHMF EFMWF SZW FIMJQNF\n",
            "Decrypted Message: MEISCHA ZAHRA NUR ADHELIA\n"
          ]
        }
      ]
    },
    {
      "cell_type": "markdown",
      "source": [
        "### Kompleksitas Waktu\n",
        "\n",
        "#### Fungsi Persiapan\n",
        "\n",
        "##### **Generate Cipher Alphabet**\n",
        "\n",
        "*   random.seed(key) Kompleksitas waktu konstan, O(1), karena hanya menginisialisasi generator bilangan acak.\n",
        "*   list(original_alphabet): O(1), hanya mengkonversi string menjadi list menggunakan fungsi tersedia.\n",
        "*   random.shuffle(cipher_alphabet_list): O(1), karena hanya mengacak list\n",
        "*   ''.join(cipher_alphabet_list): O(1), karena hanya menggabungkan elemen-elemen dalam list menjadi satu kesatuan string\n",
        "\n",
        "Kompleksitas waktu total untuk generate_cipher_alphabet adalah O(4),\n",
        "\n",
        "##### **Generate Random Key**\n",
        "\n",
        "*   Pembuatan letters dan digits melalui random.choices: O(jumlah/2) untuk masing-masing, karena memilih sejumlah karakter secara acak. Keduanya menghasilkan komoleksitas waktu sebesar O(jumlah)\n",
        "*   random.shuffle(cipher_alphabet_list): O(1), karena hanya mengacak list\n",
        "\n",
        "Kompleksitas waktu total dari generate_random_key adalah O(jumlah + 1),\n",
        "\n",
        "\n",
        "#### Fungsi Enkripsi dan Dekripsi\n",
        "##### **Penjelasan Fungsi Enkripsi dan Dekripsi **\n",
        "\n",
        "*   str.maketrans(): O(n), di mana n adalah panjang dari original_alphabet, karena membuat tabel translasi berdasarkan dua list huruf alphabet\n",
        "*   plaintext.translate(translation_table) atau ciphertext.translate(translation_table): O(m), di mana m adalah panjang dari pesan (plaintext atau ciphertext), karena menerapkan translasi ke setiap karakter.\n",
        "\n",
        "Jadi, kompleksitas waktu total untuk kedua fungsi encrypt_substitution_cipher dan decrypt_substitution_cipher adalah O(n + m), di mana n adalah panjang dari alphabet dan m adalah panjang dari pesan"
      ],
      "metadata": {
        "id": "e6iEubOWVA0s"
      }
    }
  ]
}